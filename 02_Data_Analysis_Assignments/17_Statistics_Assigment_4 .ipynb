{
  "nbformat": 4,
  "nbformat_minor": 0,
  "metadata": {
    "colab": {
      "name": "Assigment_4.ipynb",
      "provenance": []
    },
    "kernelspec": {
      "name": "python3",
      "display_name": "Python 3"
    },
    "language_info": {
      "name": "python"
    }
  },
  "cells": [
    {
      "cell_type": "code",
      "metadata": {
        "id": "57er0BO2kz0j"
      },
      "source": [
        "import numpy as np\n",
        "import scipy.stats as stats\n",
        "import matplotlib.pyplot as plt"
      ],
      "execution_count": 3,
      "outputs": []
    },
    {
      "cell_type": "markdown",
      "metadata": {
        "id": "rUdAha0yZI3_"
      },
      "source": [
        "A salesperson has found that the probability of a sale on a single contact is approximately .3. If the salesperson contacts 10 prospects, what is the approximate probability of making at least one sale?"
      ]
    },
    {
      "cell_type": "code",
      "metadata": {
        "colab": {
          "base_uri": "https://localhost:8080/"
        },
        "id": "8JH4WOd4k1ru",
        "outputId": "bb277357-29cc-48f4-ffcd-601b4588a1a7"
      },
      "source": [
        "#1-1\n",
        "p = 0.3\n",
        "n = 10\n",
        "at_least_one = 1 - stats.binom.cdf(0, n, p)\n",
        "at_least_one"
      ],
      "execution_count": 11,
      "outputs": [
        {
          "output_type": "execute_result",
          "data": {
            "text/plain": [
              "0.9717524751000001"
            ]
          },
          "metadata": {
            "tags": []
          },
          "execution_count": 11
        }
      ]
    },
    {
      "cell_type": "code",
      "metadata": {
        "colab": {
          "base_uri": "https://localhost:8080/"
        },
        "id": "AtXL6s8ik1pA",
        "outputId": "d9bfd569-b593-4068-b5a5-25b24bb8c661"
      },
      "source": [
        "#1-1-i- at least 7 head\n",
        "p = 0.5\n",
        "n = 10\n",
        "b = stats.binom(n, p)\n",
        "sonuc = 1 - b.cdf(6)\n",
        "sonuc"
      ],
      "execution_count": null,
      "outputs": [
        {
          "output_type": "execute_result",
          "data": {
            "text/plain": [
              "0.171875"
            ]
          },
          "metadata": {
            "tags": []
          },
          "execution_count": 5
        }
      ]
    },
    {
      "cell_type": "code",
      "metadata": {
        "colab": {
          "base_uri": "https://localhost:8080/"
        },
        "id": "7RiDP2SMk1mg",
        "outputId": "9c320608-fe4f-47e5-8a98-e1c077dc3759"
      },
      "source": [
        "#1-1-ii- exactly 7 heads\n",
        "p = 0.5\n",
        "n = 10\n",
        "c = stats.binom(n, p)\n",
        "sonuc = c.pmf(7)\n",
        "sonuc"
      ],
      "execution_count": null,
      "outputs": [
        {
          "output_type": "execute_result",
          "data": {
            "text/plain": [
              "0.11718750000000014"
            ]
          },
          "metadata": {
            "tags": []
          },
          "execution_count": 8
        }
      ]
    },
    {
      "cell_type": "code",
      "metadata": {
        "colab": {
          "base_uri": "https://localhost:8080/"
        },
        "id": "pLhu_9dAk1jn",
        "outputId": "20a354ef-a045-4598-d871-db3ef1f6d16a"
      },
      "source": [
        "#1-1-(iii)at most seven heads\n",
        "p = 0.5\n",
        "n = 10\n",
        "c = stats.binom(n, p)\n",
        "sonuc = c.cdf(7)\n",
        "sonuc"
      ],
      "execution_count": null,
      "outputs": [
        {
          "output_type": "execute_result",
          "data": {
            "text/plain": [
              "0.9453125"
            ]
          },
          "metadata": {
            "tags": []
          },
          "execution_count": 9
        }
      ]
    },
    {
      "cell_type": "markdown",
      "metadata": {
        "id": "pQwXnA1QshIg"
      },
      "source": [
        "```\n",
        "2- The cycle time for trucks hauling concrete to a highway construction site is uniformly distributed over the interval 50 to 70 minutes. What is the probability that the cycle time exceeds 65 minutes  if it is known that the cycle time exceeds 55 minutes? \n",
        "```"
      ]
    },
    {
      "cell_type": "code",
      "metadata": {
        "colab": {
          "base_uri": "https://localhost:8080/"
        },
        "id": "sm-n1Fpak1gj",
        "outputId": "f9001d0e-8a69-4221-d9ab-20614379117f"
      },
      "source": [
        "d =stats.uniform(50, 20)\n",
        "sonuc = (1- d.cdf(65))/(1-d.cdf(55))\n",
        "sonuc"
      ],
      "execution_count": 13,
      "outputs": [
        {
          "output_type": "execute_result",
          "data": {
            "text/plain": [
              "0.3333333333333333"
            ]
          },
          "metadata": {
            "tags": []
          },
          "execution_count": 13
        }
      ]
    },
    {
      "cell_type": "markdown",
      "metadata": {
        "id": "fPTuJTnCtwla"
      },
      "source": [
        "EXERCISE 3. \n",
        "1- The width of bolts of fabric is normally distributed with mean 950 mm (millimeters) and standard deviation 10 mm.\n",
        "What is the probability that a randomly chosen bolt has a width of between 947 and 958mm?\n"
      ]
    },
    {
      "cell_type": "code",
      "metadata": {
        "colab": {
          "base_uri": "https://localhost:8080/"
        },
        "id": "mJ6inw3bk1LH",
        "outputId": "f1f30260-756a-412b-e5d5-fbfaf8ddfebf"
      },
      "source": [
        "mean = 950\n",
        "std = 10\n",
        "e = stats.norm(950, 10)\n",
        "sonuc = e.cdf(958) - e.cdf(947)\n",
        "sonuc"
      ],
      "execution_count": null,
      "outputs": [
        {
          "output_type": "execute_result",
          "data": {
            "text/plain": [
              "0.406056023605556"
            ]
          },
          "metadata": {
            "tags": []
          },
          "execution_count": 13
        }
      ]
    },
    {
      "cell_type": "markdown",
      "metadata": {
        "id": "9HM4kiHEunYp"
      },
      "source": [
        "3.2-What is the appropriate value for C such that a randomly chosen bolt has a width less than C with probability .8531?"
      ]
    },
    {
      "cell_type": "code",
      "metadata": {
        "colab": {
          "base_uri": "https://localhost:8080/"
        },
        "id": "zzUtLT_QujJQ",
        "outputId": "70e991c4-93ba-4f5d-e9ed-7bf001760473"
      },
      "source": [
        "sonuc = e.ppf(0.8531)\n",
        "sonuc"
      ],
      "execution_count": null,
      "outputs": [
        {
          "output_type": "execute_result",
          "data": {
            "text/plain": [
              "960.4982190962642"
            ]
          },
          "metadata": {
            "tags": []
          },
          "execution_count": 14
        }
      ]
    },
    {
      "cell_type": "markdown",
      "metadata": {
        "id": "ehuwGCpLvMkS"
      },
      "source": [
        "EXERCISE 4. \n",
        "Suppose scores on exams in statistics are normally distributed with an unknown population mean and a population standard deviation of 3 points. A random sample of 36 scores is taken and gives a sample mean (sample mean score) of 68. Find a confidence interval estimate for the population mean exam score (the mean score on all exams). Find a 90% confidence interval for the true (population) mean of statistics exam scores.\n"
      ]
    },
    {
      "cell_type": "code",
      "metadata": {
        "colab": {
          "base_uri": "https://localhost:8080/"
        },
        "id": "H9lRWaB4vDCf",
        "outputId": "29156ad6-0074-40eb-c002-268d50e0a540"
      },
      "source": [
        "#sem = std/np.sqrt(n)\n",
        "f = stats.norm.interval(0.9, 68, 3/36**0.5)\n",
        "f"
      ],
      "execution_count": 20,
      "outputs": [
        {
          "output_type": "execute_result",
          "data": {
            "text/plain": [
              "(67.17757318652427, 68.82242681347573)"
            ]
          },
          "metadata": {
            "tags": []
          },
          "execution_count": 20
        }
      ]
    },
    {
      "cell_type": "markdown",
      "metadata": {
        "id": "7ZLIxgEfz6D2"
      },
      "source": [
        "EXERCISE 5.1  \n",
        "What is the normal body temperature for healthy humans? A random sample of 130 healthy human body temperatures provided by Allen Shoemaker yielded 98.25 degrees and standard deviation 0.73 degrees.\n",
        "Give a 99% confidence interval for the average body temperature of healthy people.\n"
      ]
    },
    {
      "cell_type": "code",
      "metadata": {
        "colab": {
          "base_uri": "https://localhost:8080/"
        },
        "id": "7R7vOcoE0DfL",
        "outputId": "cbacb781-1f0a-4afd-e544-b9835c32d9c7"
      },
      "source": [
        "g = stats.norm.interval(0.99, 98.25, 0.73/np.sqrt(130))\n",
        "g"
      ],
      "execution_count": 22,
      "outputs": [
        {
          "output_type": "execute_result",
          "data": {
            "text/plain": [
              "(98.08508192246582, 98.41491807753418)"
            ]
          },
          "metadata": {
            "tags": []
          },
          "execution_count": 22
        }
      ]
    },
    {
      "cell_type": "markdown",
      "metadata": {
        "id": "XA7zgvfp0l0i"
      },
      "source": [
        "5.2. Does the confidence interval obtained in part (a) contain the value 98.6 degrees, the accepted average temperature cited by physicians and others? What conclusions can you draw? (Wackerly, Ex.8.60)"
      ]
    },
    {
      "cell_type": "code",
      "metadata": {
        "id": "6sYEU0Ob3RUr"
      },
      "source": [
        "H0 = 98.6\n",
        "We reject the H0. Because it is not between g[0] and g[1] "
      ],
      "execution_count": null,
      "outputs": []
    }
  ]
}